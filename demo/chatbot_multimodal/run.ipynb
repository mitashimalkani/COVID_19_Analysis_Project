{
  "cells": [
    {
      "cell_type": "markdown",
      "id": "302934307671667531413257853548643485645",
      "metadata": {
        "id": "302934307671667531413257853548643485645"
      },
      "source": [
        "\\ Technical Interview Assignment"
      ]
    },
    {
      "cell_type": "code",
      "execution_count": 1,
      "id": "272996653310673477252411125948039410165",
      "metadata": {
        "colab": {
          "base_uri": "https://localhost:8080/"
        },
        "id": "272996653310673477252411125948039410165",
        "outputId": "60f6bbbb-d7ba-42f3-928f-0b91b3eb55c2"
      },
      "outputs": [
        {
          "output_type": "stream",
          "name": "stdout",
          "text": [
            "Collecting openai\n",
            "  Downloading openai-1.25.1-py3-none-any.whl (312 kB)\n",
            "\u001b[?25l     \u001b[90m━━━━━━━━━━━━━━━━━━━━━━━━━━━━━━━━━━━━━━━━\u001b[0m \u001b[32m0.0/312.9 kB\u001b[0m \u001b[31m?\u001b[0m eta \u001b[36m-:--:--\u001b[0m\r\u001b[2K     \u001b[91m━━━━━━━━━━━━━━━\u001b[0m\u001b[91m╸\u001b[0m\u001b[90m━━━━━━━━━━━━━━━━━━━━━━━━\u001b[0m \u001b[32m122.9/312.9 kB\u001b[0m \u001b[31m3.6 MB/s\u001b[0m eta \u001b[36m0:00:01\u001b[0m\r\u001b[2K     \u001b[90m━━━━━━━━━━━━━━━━━━━━━━━━━━━━━━━━━━━━━━━━\u001b[0m \u001b[32m312.9/312.9 kB\u001b[0m \u001b[31m4.8 MB/s\u001b[0m eta \u001b[36m0:00:00\u001b[0m\n",
            "\u001b[?25hRequirement already satisfied: anyio<5,>=3.5.0 in /usr/local/lib/python3.10/dist-packages (from openai) (3.7.1)\n",
            "Requirement already satisfied: distro<2,>=1.7.0 in /usr/lib/python3/dist-packages (from openai) (1.7.0)\n",
            "Collecting httpx<1,>=0.23.0 (from openai)\n",
            "  Downloading httpx-0.27.0-py3-none-any.whl (75 kB)\n",
            "\u001b[2K     \u001b[90m━━━━━━━━━━━━━━━━━━━━━━━━━━━━━━━━━━━━━━━━\u001b[0m \u001b[32m75.6/75.6 kB\u001b[0m \u001b[31m6.3 MB/s\u001b[0m eta \u001b[36m0:00:00\u001b[0m\n",
            "\u001b[?25hRequirement already satisfied: pydantic<3,>=1.9.0 in /usr/local/lib/python3.10/dist-packages (from openai) (2.7.1)\n",
            "Requirement already satisfied: sniffio in /usr/local/lib/python3.10/dist-packages (from openai) (1.3.1)\n",
            "Requirement already satisfied: tqdm>4 in /usr/local/lib/python3.10/dist-packages (from openai) (4.66.2)\n",
            "Requirement already satisfied: typing-extensions<5,>=4.7 in /usr/local/lib/python3.10/dist-packages (from openai) (4.11.0)\n",
            "Requirement already satisfied: idna>=2.8 in /usr/local/lib/python3.10/dist-packages (from anyio<5,>=3.5.0->openai) (3.7)\n",
            "Requirement already satisfied: exceptiongroup in /usr/local/lib/python3.10/dist-packages (from anyio<5,>=3.5.0->openai) (1.2.1)\n",
            "Requirement already satisfied: certifi in /usr/local/lib/python3.10/dist-packages (from httpx<1,>=0.23.0->openai) (2024.2.2)\n",
            "Collecting httpcore==1.* (from httpx<1,>=0.23.0->openai)\n",
            "  Downloading httpcore-1.0.5-py3-none-any.whl (77 kB)\n",
            "\u001b[2K     \u001b[90m━━━━━━━━━━━━━━━━━━━━━━━━━━━━━━━━━━━━━━━━\u001b[0m \u001b[32m77.9/77.9 kB\u001b[0m \u001b[31m6.8 MB/s\u001b[0m eta \u001b[36m0:00:00\u001b[0m\n",
            "\u001b[?25hCollecting h11<0.15,>=0.13 (from httpcore==1.*->httpx<1,>=0.23.0->openai)\n",
            "  Downloading h11-0.14.0-py3-none-any.whl (58 kB)\n",
            "\u001b[2K     \u001b[90m━━━━━━━━━━━━━━━━━━━━━━━━━━━━━━━━━━━━━━━━\u001b[0m \u001b[32m58.3/58.3 kB\u001b[0m \u001b[31m5.9 MB/s\u001b[0m eta \u001b[36m0:00:00\u001b[0m\n",
            "\u001b[?25hRequirement already satisfied: annotated-types>=0.4.0 in /usr/local/lib/python3.10/dist-packages (from pydantic<3,>=1.9.0->openai) (0.6.0)\n",
            "Requirement already satisfied: pydantic-core==2.18.2 in /usr/local/lib/python3.10/dist-packages (from pydantic<3,>=1.9.0->openai) (2.18.2)\n",
            "Installing collected packages: h11, httpcore, httpx, openai\n",
            "Successfully installed h11-0.14.0 httpcore-1.0.5 httpx-0.27.0 openai-1.25.1\n",
            "Collecting langchain\n",
            "  Downloading langchain-0.1.17-py3-none-any.whl (867 kB)\n",
            "\u001b[2K     \u001b[90m━━━━━━━━━━━━━━━━━━━━━━━━━━━━━━━━━━━━━━━━\u001b[0m \u001b[32m867.6/867.6 kB\u001b[0m \u001b[31m6.7 MB/s\u001b[0m eta \u001b[36m0:00:00\u001b[0m\n",
            "\u001b[?25hRequirement already satisfied: PyYAML>=5.3 in /usr/local/lib/python3.10/dist-packages (from langchain) (6.0.1)\n",
            "Requirement already satisfied: SQLAlchemy<3,>=1.4 in /usr/local/lib/python3.10/dist-packages (from langchain) (2.0.29)\n",
            "Requirement already satisfied: aiohttp<4.0.0,>=3.8.3 in /usr/local/lib/python3.10/dist-packages (from langchain) (3.9.5)\n",
            "Requirement already satisfied: async-timeout<5.0.0,>=4.0.0 in /usr/local/lib/python3.10/dist-packages (from langchain) (4.0.3)\n",
            "Collecting dataclasses-json<0.7,>=0.5.7 (from langchain)\n",
            "  Downloading dataclasses_json-0.6.5-py3-none-any.whl (28 kB)\n",
            "Collecting jsonpatch<2.0,>=1.33 (from langchain)\n",
            "  Downloading jsonpatch-1.33-py2.py3-none-any.whl (12 kB)\n",
            "Collecting langchain-community<0.1,>=0.0.36 (from langchain)\n",
            "  Downloading langchain_community-0.0.36-py3-none-any.whl (2.0 MB)\n",
            "\u001b[2K     \u001b[90m━━━━━━━━━━━━━━━━━━━━━━━━━━━━━━━━━━━━━━━━\u001b[0m \u001b[32m2.0/2.0 MB\u001b[0m \u001b[31m13.5 MB/s\u001b[0m eta \u001b[36m0:00:00\u001b[0m\n",
            "\u001b[?25hCollecting langchain-core<0.2.0,>=0.1.48 (from langchain)\n",
            "  Downloading langchain_core-0.1.50-py3-none-any.whl (302 kB)\n",
            "\u001b[2K     \u001b[90m━━━━━━━━━━━━━━━━━━━━━━━━━━━━━━━━━━━━━━━━\u001b[0m \u001b[32m302.8/302.8 kB\u001b[0m \u001b[31m24.7 MB/s\u001b[0m eta \u001b[36m0:00:00\u001b[0m\n",
            "\u001b[?25hCollecting langchain-text-splitters<0.1,>=0.0.1 (from langchain)\n",
            "  Downloading langchain_text_splitters-0.0.1-py3-none-any.whl (21 kB)\n",
            "Collecting langsmith<0.2.0,>=0.1.17 (from langchain)\n",
            "  Downloading langsmith-0.1.54-py3-none-any.whl (116 kB)\n",
            "\u001b[2K     \u001b[90m━━━━━━━━━━━━━━━━━━━━━━━━━━━━━━━━━━━━━━━━\u001b[0m \u001b[32m116.7/116.7 kB\u001b[0m \u001b[31m6.6 MB/s\u001b[0m eta \u001b[36m0:00:00\u001b[0m\n",
            "\u001b[?25hRequirement already satisfied: numpy<2,>=1 in /usr/local/lib/python3.10/dist-packages (from langchain) (1.25.2)\n",
            "Requirement already satisfied: pydantic<3,>=1 in /usr/local/lib/python3.10/dist-packages (from langchain) (2.7.1)\n",
            "Requirement already satisfied: requests<3,>=2 in /usr/local/lib/python3.10/dist-packages (from langchain) (2.31.0)\n",
            "Requirement already satisfied: tenacity<9.0.0,>=8.1.0 in /usr/local/lib/python3.10/dist-packages (from langchain) (8.2.3)\n",
            "Requirement already satisfied: aiosignal>=1.1.2 in /usr/local/lib/python3.10/dist-packages (from aiohttp<4.0.0,>=3.8.3->langchain) (1.3.1)\n",
            "Requirement already satisfied: attrs>=17.3.0 in /usr/local/lib/python3.10/dist-packages (from aiohttp<4.0.0,>=3.8.3->langchain) (23.2.0)\n",
            "Requirement already satisfied: frozenlist>=1.1.1 in /usr/local/lib/python3.10/dist-packages (from aiohttp<4.0.0,>=3.8.3->langchain) (1.4.1)\n",
            "Requirement already satisfied: multidict<7.0,>=4.5 in /usr/local/lib/python3.10/dist-packages (from aiohttp<4.0.0,>=3.8.3->langchain) (6.0.5)\n",
            "Requirement already satisfied: yarl<2.0,>=1.0 in /usr/local/lib/python3.10/dist-packages (from aiohttp<4.0.0,>=3.8.3->langchain) (1.9.4)\n",
            "Collecting marshmallow<4.0.0,>=3.18.0 (from dataclasses-json<0.7,>=0.5.7->langchain)\n",
            "  Downloading marshmallow-3.21.2-py3-none-any.whl (49 kB)\n",
            "\u001b[2K     \u001b[90m━━━━━━━━━━━━━━━━━━━━━━━━━━━━━━━━━━━━━━━━\u001b[0m \u001b[32m49.3/49.3 kB\u001b[0m \u001b[31m5.1 MB/s\u001b[0m eta \u001b[36m0:00:00\u001b[0m\n",
            "\u001b[?25hCollecting typing-inspect<1,>=0.4.0 (from dataclasses-json<0.7,>=0.5.7->langchain)\n",
            "  Downloading typing_inspect-0.9.0-py3-none-any.whl (8.8 kB)\n",
            "Collecting jsonpointer>=1.9 (from jsonpatch<2.0,>=1.33->langchain)\n",
            "  Downloading jsonpointer-2.4-py2.py3-none-any.whl (7.8 kB)\n",
            "Collecting packaging<24.0,>=23.2 (from langchain-core<0.2.0,>=0.1.48->langchain)\n",
            "  Downloading packaging-23.2-py3-none-any.whl (53 kB)\n",
            "\u001b[2K     \u001b[90m━━━━━━━━━━━━━━━━━━━━━━━━━━━━━━━━━━━━━━━━\u001b[0m \u001b[32m53.0/53.0 kB\u001b[0m \u001b[31m5.6 MB/s\u001b[0m eta \u001b[36m0:00:00\u001b[0m\n",
            "\u001b[?25hCollecting orjson<4.0.0,>=3.9.14 (from langsmith<0.2.0,>=0.1.17->langchain)\n",
            "  Downloading orjson-3.10.3-cp310-cp310-manylinux_2_17_x86_64.manylinux2014_x86_64.whl (142 kB)\n",
            "\u001b[2K     \u001b[90m━━━━━━━━━━━━━━━━━━━━━━━━━━━━━━━━━━━━━━━━\u001b[0m \u001b[32m142.5/142.5 kB\u001b[0m \u001b[31m3.6 MB/s\u001b[0m eta \u001b[36m0:00:00\u001b[0m\n",
            "\u001b[?25hRequirement already satisfied: annotated-types>=0.4.0 in /usr/local/lib/python3.10/dist-packages (from pydantic<3,>=1->langchain) (0.6.0)\n",
            "Requirement already satisfied: pydantic-core==2.18.2 in /usr/local/lib/python3.10/dist-packages (from pydantic<3,>=1->langchain) (2.18.2)\n",
            "Requirement already satisfied: typing-extensions>=4.6.1 in /usr/local/lib/python3.10/dist-packages (from pydantic<3,>=1->langchain) (4.11.0)\n",
            "Requirement already satisfied: charset-normalizer<4,>=2 in /usr/local/lib/python3.10/dist-packages (from requests<3,>=2->langchain) (3.3.2)\n",
            "Requirement already satisfied: idna<4,>=2.5 in /usr/local/lib/python3.10/dist-packages (from requests<3,>=2->langchain) (3.7)\n",
            "Requirement already satisfied: urllib3<3,>=1.21.1 in /usr/local/lib/python3.10/dist-packages (from requests<3,>=2->langchain) (2.0.7)\n",
            "Requirement already satisfied: certifi>=2017.4.17 in /usr/local/lib/python3.10/dist-packages (from requests<3,>=2->langchain) (2024.2.2)\n",
            "Requirement already satisfied: greenlet!=0.4.17 in /usr/local/lib/python3.10/dist-packages (from SQLAlchemy<3,>=1.4->langchain) (3.0.3)\n",
            "Collecting mypy-extensions>=0.3.0 (from typing-inspect<1,>=0.4.0->dataclasses-json<0.7,>=0.5.7->langchain)\n",
            "  Downloading mypy_extensions-1.0.0-py3-none-any.whl (4.7 kB)\n",
            "Installing collected packages: packaging, orjson, mypy-extensions, jsonpointer, typing-inspect, marshmallow, jsonpatch, langsmith, dataclasses-json, langchain-core, langchain-text-splitters, langchain-community, langchain\n",
            "  Attempting uninstall: packaging\n",
            "    Found existing installation: packaging 24.0\n",
            "    Uninstalling packaging-24.0:\n",
            "      Successfully uninstalled packaging-24.0\n",
            "Successfully installed dataclasses-json-0.6.5 jsonpatch-1.33 jsonpointer-2.4 langchain-0.1.17 langchain-community-0.0.36 langchain-core-0.1.50 langchain-text-splitters-0.0.1 langsmith-0.1.54 marshmallow-3.21.2 mypy-extensions-1.0.0 orjson-3.10.3 packaging-23.2 typing-inspect-0.9.0\n",
            "Requirement already satisfied: langchain-community in /usr/local/lib/python3.10/dist-packages (0.0.36)\n",
            "Requirement already satisfied: PyYAML>=5.3 in /usr/local/lib/python3.10/dist-packages (from langchain-community) (6.0.1)\n",
            "Requirement already satisfied: SQLAlchemy<3,>=1.4 in /usr/local/lib/python3.10/dist-packages (from langchain-community) (2.0.29)\n",
            "Requirement already satisfied: aiohttp<4.0.0,>=3.8.3 in /usr/local/lib/python3.10/dist-packages (from langchain-community) (3.9.5)\n",
            "Requirement already satisfied: dataclasses-json<0.7,>=0.5.7 in /usr/local/lib/python3.10/dist-packages (from langchain-community) (0.6.5)\n",
            "Requirement already satisfied: langchain-core<0.2.0,>=0.1.48 in /usr/local/lib/python3.10/dist-packages (from langchain-community) (0.1.50)\n",
            "Requirement already satisfied: langsmith<0.2.0,>=0.1.0 in /usr/local/lib/python3.10/dist-packages (from langchain-community) (0.1.54)\n",
            "Requirement already satisfied: numpy<2,>=1 in /usr/local/lib/python3.10/dist-packages (from langchain-community) (1.25.2)\n",
            "Requirement already satisfied: requests<3,>=2 in /usr/local/lib/python3.10/dist-packages (from langchain-community) (2.31.0)\n",
            "Requirement already satisfied: tenacity<9.0.0,>=8.1.0 in /usr/local/lib/python3.10/dist-packages (from langchain-community) (8.2.3)\n",
            "Requirement already satisfied: aiosignal>=1.1.2 in /usr/local/lib/python3.10/dist-packages (from aiohttp<4.0.0,>=3.8.3->langchain-community) (1.3.1)\n",
            "Requirement already satisfied: attrs>=17.3.0 in /usr/local/lib/python3.10/dist-packages (from aiohttp<4.0.0,>=3.8.3->langchain-community) (23.2.0)\n",
            "Requirement already satisfied: frozenlist>=1.1.1 in /usr/local/lib/python3.10/dist-packages (from aiohttp<4.0.0,>=3.8.3->langchain-community) (1.4.1)\n",
            "Requirement already satisfied: multidict<7.0,>=4.5 in /usr/local/lib/python3.10/dist-packages (from aiohttp<4.0.0,>=3.8.3->langchain-community) (6.0.5)\n",
            "Requirement already satisfied: yarl<2.0,>=1.0 in /usr/local/lib/python3.10/dist-packages (from aiohttp<4.0.0,>=3.8.3->langchain-community) (1.9.4)\n",
            "Requirement already satisfied: async-timeout<5.0,>=4.0 in /usr/local/lib/python3.10/dist-packages (from aiohttp<4.0.0,>=3.8.3->langchain-community) (4.0.3)\n",
            "Requirement already satisfied: marshmallow<4.0.0,>=3.18.0 in /usr/local/lib/python3.10/dist-packages (from dataclasses-json<0.7,>=0.5.7->langchain-community) (3.21.2)\n",
            "Requirement already satisfied: typing-inspect<1,>=0.4.0 in /usr/local/lib/python3.10/dist-packages (from dataclasses-json<0.7,>=0.5.7->langchain-community) (0.9.0)\n",
            "Requirement already satisfied: jsonpatch<2.0,>=1.33 in /usr/local/lib/python3.10/dist-packages (from langchain-core<0.2.0,>=0.1.48->langchain-community) (1.33)\n",
            "Requirement already satisfied: packaging<24.0,>=23.2 in /usr/local/lib/python3.10/dist-packages (from langchain-core<0.2.0,>=0.1.48->langchain-community) (23.2)\n",
            "Requirement already satisfied: pydantic<3,>=1 in /usr/local/lib/python3.10/dist-packages (from langchain-core<0.2.0,>=0.1.48->langchain-community) (2.7.1)\n",
            "Requirement already satisfied: orjson<4.0.0,>=3.9.14 in /usr/local/lib/python3.10/dist-packages (from langsmith<0.2.0,>=0.1.0->langchain-community) (3.10.3)\n",
            "Requirement already satisfied: charset-normalizer<4,>=2 in /usr/local/lib/python3.10/dist-packages (from requests<3,>=2->langchain-community) (3.3.2)\n",
            "Requirement already satisfied: idna<4,>=2.5 in /usr/local/lib/python3.10/dist-packages (from requests<3,>=2->langchain-community) (3.7)\n",
            "Requirement already satisfied: urllib3<3,>=1.21.1 in /usr/local/lib/python3.10/dist-packages (from requests<3,>=2->langchain-community) (2.0.7)\n",
            "Requirement already satisfied: certifi>=2017.4.17 in /usr/local/lib/python3.10/dist-packages (from requests<3,>=2->langchain-community) (2024.2.2)\n",
            "Requirement already satisfied: typing-extensions>=4.6.0 in /usr/local/lib/python3.10/dist-packages (from SQLAlchemy<3,>=1.4->langchain-community) (4.11.0)\n",
            "Requirement already satisfied: greenlet!=0.4.17 in /usr/local/lib/python3.10/dist-packages (from SQLAlchemy<3,>=1.4->langchain-community) (3.0.3)\n",
            "Requirement already satisfied: jsonpointer>=1.9 in /usr/local/lib/python3.10/dist-packages (from jsonpatch<2.0,>=1.33->langchain-core<0.2.0,>=0.1.48->langchain-community) (2.4)\n",
            "Requirement already satisfied: annotated-types>=0.4.0 in /usr/local/lib/python3.10/dist-packages (from pydantic<3,>=1->langchain-core<0.2.0,>=0.1.48->langchain-community) (0.6.0)\n",
            "Requirement already satisfied: pydantic-core==2.18.2 in /usr/local/lib/python3.10/dist-packages (from pydantic<3,>=1->langchain-core<0.2.0,>=0.1.48->langchain-community) (2.18.2)\n",
            "Requirement already satisfied: mypy-extensions>=0.3.0 in /usr/local/lib/python3.10/dist-packages (from typing-inspect<1,>=0.4.0->dataclasses-json<0.7,>=0.5.7->langchain-community) (1.0.0)\n"
          ]
        }
      ],
      "source": [
        "!pip install openai\n",
        "!pip install langchain\n",
        "!pip install langchain-community"
      ]
    },
    {
      "cell_type": "code",
      "source": [
        "!pip install langchain-openai"
      ],
      "metadata": {
        "colab": {
          "base_uri": "https://localhost:8080/"
        },
        "id": "rxkJkLSSHJbh",
        "outputId": "f484abd9-3f8a-4c79-b488-0c9afd1e25c4"
      },
      "id": "rxkJkLSSHJbh",
      "execution_count": 3,
      "outputs": [
        {
          "output_type": "stream",
          "name": "stdout",
          "text": [
            "Collecting langchain-openai\n",
            "  Downloading langchain_openai-0.1.6-py3-none-any.whl (34 kB)\n",
            "Requirement already satisfied: langchain-core<0.2.0,>=0.1.46 in /usr/local/lib/python3.10/dist-packages (from langchain-openai) (0.1.50)\n",
            "Requirement already satisfied: openai<2.0.0,>=1.24.0 in /usr/local/lib/python3.10/dist-packages (from langchain-openai) (1.25.1)\n",
            "Collecting tiktoken<1,>=0.5.2 (from langchain-openai)\n",
            "  Downloading tiktoken-0.6.0-cp310-cp310-manylinux_2_17_x86_64.manylinux2014_x86_64.whl (1.8 MB)\n",
            "\u001b[2K     \u001b[90m━━━━━━━━━━━━━━━━━━━━━━━━━━━━━━━━━━━━━━━━\u001b[0m \u001b[32m1.8/1.8 MB\u001b[0m \u001b[31m11.8 MB/s\u001b[0m eta \u001b[36m0:00:00\u001b[0m\n",
            "\u001b[?25hRequirement already satisfied: PyYAML>=5.3 in /usr/local/lib/python3.10/dist-packages (from langchain-core<0.2.0,>=0.1.46->langchain-openai) (6.0.1)\n",
            "Requirement already satisfied: jsonpatch<2.0,>=1.33 in /usr/local/lib/python3.10/dist-packages (from langchain-core<0.2.0,>=0.1.46->langchain-openai) (1.33)\n",
            "Requirement already satisfied: langsmith<0.2.0,>=0.1.0 in /usr/local/lib/python3.10/dist-packages (from langchain-core<0.2.0,>=0.1.46->langchain-openai) (0.1.54)\n",
            "Requirement already satisfied: packaging<24.0,>=23.2 in /usr/local/lib/python3.10/dist-packages (from langchain-core<0.2.0,>=0.1.46->langchain-openai) (23.2)\n",
            "Requirement already satisfied: pydantic<3,>=1 in /usr/local/lib/python3.10/dist-packages (from langchain-core<0.2.0,>=0.1.46->langchain-openai) (2.7.1)\n",
            "Requirement already satisfied: tenacity<9.0.0,>=8.1.0 in /usr/local/lib/python3.10/dist-packages (from langchain-core<0.2.0,>=0.1.46->langchain-openai) (8.2.3)\n",
            "Requirement already satisfied: anyio<5,>=3.5.0 in /usr/local/lib/python3.10/dist-packages (from openai<2.0.0,>=1.24.0->langchain-openai) (3.7.1)\n",
            "Requirement already satisfied: distro<2,>=1.7.0 in /usr/lib/python3/dist-packages (from openai<2.0.0,>=1.24.0->langchain-openai) (1.7.0)\n",
            "Requirement already satisfied: httpx<1,>=0.23.0 in /usr/local/lib/python3.10/dist-packages (from openai<2.0.0,>=1.24.0->langchain-openai) (0.27.0)\n",
            "Requirement already satisfied: sniffio in /usr/local/lib/python3.10/dist-packages (from openai<2.0.0,>=1.24.0->langchain-openai) (1.3.1)\n",
            "Requirement already satisfied: tqdm>4 in /usr/local/lib/python3.10/dist-packages (from openai<2.0.0,>=1.24.0->langchain-openai) (4.66.2)\n",
            "Requirement already satisfied: typing-extensions<5,>=4.7 in /usr/local/lib/python3.10/dist-packages (from openai<2.0.0,>=1.24.0->langchain-openai) (4.11.0)\n",
            "Requirement already satisfied: regex>=2022.1.18 in /usr/local/lib/python3.10/dist-packages (from tiktoken<1,>=0.5.2->langchain-openai) (2023.12.25)\n",
            "Requirement already satisfied: requests>=2.26.0 in /usr/local/lib/python3.10/dist-packages (from tiktoken<1,>=0.5.2->langchain-openai) (2.31.0)\n",
            "Requirement already satisfied: idna>=2.8 in /usr/local/lib/python3.10/dist-packages (from anyio<5,>=3.5.0->openai<2.0.0,>=1.24.0->langchain-openai) (3.7)\n",
            "Requirement already satisfied: exceptiongroup in /usr/local/lib/python3.10/dist-packages (from anyio<5,>=3.5.0->openai<2.0.0,>=1.24.0->langchain-openai) (1.2.1)\n",
            "Requirement already satisfied: certifi in /usr/local/lib/python3.10/dist-packages (from httpx<1,>=0.23.0->openai<2.0.0,>=1.24.0->langchain-openai) (2024.2.2)\n",
            "Requirement already satisfied: httpcore==1.* in /usr/local/lib/python3.10/dist-packages (from httpx<1,>=0.23.0->openai<2.0.0,>=1.24.0->langchain-openai) (1.0.5)\n",
            "Requirement already satisfied: h11<0.15,>=0.13 in /usr/local/lib/python3.10/dist-packages (from httpcore==1.*->httpx<1,>=0.23.0->openai<2.0.0,>=1.24.0->langchain-openai) (0.14.0)\n",
            "Requirement already satisfied: jsonpointer>=1.9 in /usr/local/lib/python3.10/dist-packages (from jsonpatch<2.0,>=1.33->langchain-core<0.2.0,>=0.1.46->langchain-openai) (2.4)\n",
            "Requirement already satisfied: orjson<4.0.0,>=3.9.14 in /usr/local/lib/python3.10/dist-packages (from langsmith<0.2.0,>=0.1.0->langchain-core<0.2.0,>=0.1.46->langchain-openai) (3.10.3)\n",
            "Requirement already satisfied: annotated-types>=0.4.0 in /usr/local/lib/python3.10/dist-packages (from pydantic<3,>=1->langchain-core<0.2.0,>=0.1.46->langchain-openai) (0.6.0)\n",
            "Requirement already satisfied: pydantic-core==2.18.2 in /usr/local/lib/python3.10/dist-packages (from pydantic<3,>=1->langchain-core<0.2.0,>=0.1.46->langchain-openai) (2.18.2)\n",
            "Requirement already satisfied: charset-normalizer<4,>=2 in /usr/local/lib/python3.10/dist-packages (from requests>=2.26.0->tiktoken<1,>=0.5.2->langchain-openai) (3.3.2)\n",
            "Requirement already satisfied: urllib3<3,>=1.21.1 in /usr/local/lib/python3.10/dist-packages (from requests>=2.26.0->tiktoken<1,>=0.5.2->langchain-openai) (2.0.7)\n",
            "Installing collected packages: tiktoken, langchain-openai\n",
            "Successfully installed langchain-openai-0.1.6 tiktoken-0.6.0\n"
          ]
        }
      ]
    },
    {
      "cell_type": "code",
      "execution_count": 38,
      "id": "44380577570523278879349135829904343037",
      "metadata": {
        "id": "44380577570523278879349135829904343037"
      },
      "outputs": [],
      "source": [
        "import openai\n",
        "import json\n",
        "\n",
        "from langchain_core.output_parsers import JsonOutputParser\n",
        "from langchain_core.prompts import PromptTemplate\n",
        "from langchain_core.pydantic_v1 import BaseModel, Field\n",
        "from langchain_openai import ChatOpenAI"
      ]
    },
    {
      "cell_type": "code",
      "source": [
        "model = ChatOpenAI(openai_api_key='sk-proj-A2Cjs7DGGueFgkZT1BBJT3BlbkFJM33uMBcQbvHOxKctjdKg', temperature=0)"
      ],
      "metadata": {
        "id": "goe9yys9HVUZ"
      },
      "id": "goe9yys9HVUZ",
      "execution_count": 16,
      "outputs": []
    },
    {
      "cell_type": "code",
      "source": [
        "search_results = {\n",
        "    \"query\": \"top 5 market drivers of sugar-free lollies\",\n",
        "    \"follow_up_questions\": \"null\",\n",
        "    \"answer\": \"null\",\n",
        "    \"images\": \"null\",\n",
        "    \"results\": [\n",
        "        {\n",
        "            \"title\": \"Prebiotic lolly: Funday on finding sugar-free sweet spot in Australia's ...\",\n",
        "            \"url\": \"https://www.foodnavigator-asia.com/Article/2021/05/25/Prebiotic-lolly-Funday-on-finding-sugar-free-sweet-spot-in-Australia-s-healthy-confectionery-market\",\n",
        "            \"content\": \"Australian start-up Funday Natural Sweets is seeking to shake-up the confectionery market with sugar-free and functional products, including a prebiotic lolly. The company currently has four SKUs, all of which contain no added sugar, no sugar-alcohol, and with 7g of prebiotic. The prebiotic is a form of fibre derived from the chicory root fiber ...\",\n",
        "            \"score\": 0.97789,\n",
        "            \"raw_content\": \"null\"\n",
        "        },\n",
        "        {\n",
        "            \"title\": \"Global Sugar-Free Confectionery Market Industry ... - Business Wire\",\n",
        "            \"url\": \"https://www.businesswire.com/news/home/20210726005296/en/Global-Sugar-Free-Confectionery-Market-Industry-Analysis-2021-2026-Featuring-LILYS-Sweets-Mondelez-International-Ashers-Chocolate-Co.-Meiji-Co.-and-More---ResearchAndMarkets.com\",\n",
        "            \"content\": \"The report is a comprehensive study and presentation of drivers, restraints, opportunities, demand factors, market size, forecasts, and trends in the global sugar-free confectionery market over ...\",\n",
        "            \"score\": 0.9713,\n",
        "            \"raw_content\": \"null\"\n",
        "        },\n",
        "        {\n",
        "            \"title\": \"Are sugar-free lollies that much better for you? Apparently not\",\n",
        "            \"url\": \"https://www.bodyandsoul.com.au/nutrition/are-sugarfree-lollies-that-much-better-for-you-apparently-not/news-story/4706f2677bcaec3ea9fe7b801fcb10df\",\n",
        "            \"content\": \"Just like regular lollies, sugar-free lollies provide no nutritional value, so they should still be considered a treat food. In my opinion, you'd be better off mindfully enjoying the sugar ...\",\n",
        "            \"score\": 0.91733,\n",
        "            \"raw_content\": \"null\"\n",
        "        },\n",
        "        {\n",
        "            \"title\": \"Funday natural lollies in 5000 stores after 250% growth\",\n",
        "            \"url\": \"https://www.smartcompany.com.au/industries/retail/natural-lolly-brand-funday-5000-stores-growth/\",\n",
        "            \"content\": \"Natural lolly brand Funday in 5000 stores after 250% year-on-year growth. Morganne Kopittke. November 30, 2023. Funday Natural Sweets founder Daniel Kitay. Source: Supplied. An Australian natural ...\",\n",
        "            \"score\": 0.91167,\n",
        "            \"raw_content\": \"null\"\n",
        "        },\n",
        "        {\n",
        "            \"title\": \"Interview with Daniel Kitay, Founder of FUNDAY™ Natural Sweets - LinkedIn\",\n",
        "            \"url\": \"https://www.linkedin.com/pulse/interview-daniel-kitay-founder-funday-natural-sweets-\",\n",
        "            \"content\": \"After frustration with the lack of healthy lollies on the market, Founder Daniel Kitay took to the kitchen. Deliciously natural lollies packed with gut-loving goodies, no added sugar or sugar ...\",\n",
        "            \"score\": 0.9027,\n",
        "            \"raw_content\": \"null\"\n",
        "        },\n",
        "        {\n",
        "            \"title\": \"Funday natural sweets helps satisfy guilt-free sweet tooth\",\n",
        "            \"url\": \"https://www.foodmag.com.au/funday-natural-sweets-helps-satisfy-your-sweet-tooth-without-the-guilt/\",\n",
        "            \"content\": \"Founded by the lolly-obsessed Daniel Kitay in 2021, Funday offers healthier versions of your favourite lollies bursting with flavour that are all-natural, gluten-free, and contain no added sugars or sugar alcohols! That's right, you can enjoy your sweets and eat it too! Frustrated by the lacklustre selection of sweets in supermarkets, Daniel Kitay set out to create something special.\",\n",
        "            \"score\": 0.89741,\n",
        "            \"raw_content\": \"null\"\n",
        "        },\n",
        "        {\n",
        "            \"title\": \"Worldwide Sugar-Free Food and Beverage Industry to 2024 - Key Drivers ...\",\n",
        "            \"url\": \"https://finance.yahoo.com/news/worldwide-sugar-free-food-beverage-105800539.html\",\n",
        "            \"content\": \"Dublin, Oct. 22, 2020 (GLOBE NEWSWIRE) -- The \\\"Global Sugar-Free Food and Beverage Market 2020-2024\\\" report has been added to ResearchAndMarkets.com's offering. The sugar-free food and beverage ...\",\n",
        "            \"score\": 0.8672,\n",
        "            \"raw_content\": \"null\"\n",
        "        },\n",
        "        {\n",
        "            \"title\": \"Zolli Pops Tropical Sugar Free Lollipops Candy - 16ct : Target\",\n",
        "            \"url\": \"https://www.target.com/p/zolli-pops-tropical-sugar-free-lollipops-candy-16ct/-/A-81838714\",\n",
        "            \"content\": \"The Zollipops Original Assorted pack contains 6 delicious natual flavors: Watermelon, Green Apple, Strawberry, Peach, Orange and Pineapple. GUILT-FREE TREAT: Zolli's lollipops are also known as the \\\"\\\"After You Eat Treat\\\"\\\", kids and adults can enjoy one after every meal, for clean teeth and healthier smile. Zollipops are not only sugar-free, but ...\",\n",
        "            \"score\": 0.84724,\n",
        "            \"raw_content\": \"null\"\n",
        "        },\n",
        "        {\n",
        "            \"title\": \"Candy - Market Share Analysis, Industry Trends & Statistics, Growth ...\",\n",
        "            \"url\": \"https://www.researchandmarkets.com/reports/4828285/candy-market-share-analysis-industry-trends-and\",\n",
        "            \"content\": \"The Candy Market size is estimated at USD 69.20 billion in 2024, and is expected to reach USD 83.46 billion by 2029, growing at a CAGR of 3.82% during the forecast period (2024-2029). Over the last year, the coronavirus has impacted every industry, including the confectionery and candy industry, although only for the short term.\",\n",
        "            \"score\": 0.8371,\n",
        "            \"raw_content\": \"null\"\n",
        "        },\n",
        "        {\n",
        "            \"title\": \"FUNDAY Natural Sweets announces launch at Coles supermarkets\",\n",
        "            \"url\": \"https://www.foodmag.com.au/funday-natural-sweets-signs-a-multi-million-dollar-contract-with-coles/\",\n",
        "            \"content\": \"Australia's leading natural confectionary brand, FUNDAY Natural Sweets proudly announced its launch at Coles supermarkets across the country being one of the first brands Coles has embraced, offering healthier treats for shoppers. Founded by the lolly-fanatic Daniel Kitay in 2021, FUNDAY offers healthier versions of your favourite lollies bursting with all-natural, gluten-free flavours and ...\",\n",
        "            \"score\": 0.83157,\n",
        "            \"raw_content\": \"null\"\n",
        "        }\n",
        "    ],\n",
        "    \"response_time\": 0.89\n",
        "}\n"
      ],
      "metadata": {
        "id": "gNcw5NtENwXx"
      },
      "id": "gNcw5NtENwXx",
      "execution_count": 41,
      "outputs": []
    },
    {
      "cell_type": "code",
      "source": [
        "context = json.dumps(search_results, ensure_ascii=True).replace('],\"', ']}')"
      ],
      "metadata": {
        "id": "EOZxlZn_IAMs"
      },
      "id": "EOZxlZn_IAMs",
      "execution_count": 42,
      "outputs": []
    },
    {
      "cell_type": "code",
      "source": [
        "print(context)"
      ],
      "metadata": {
        "colab": {
          "base_uri": "https://localhost:8080/"
        },
        "id": "aXquDmeVL_UG",
        "outputId": "13ec01f8-3f57-4ff3-a8d1-efff58774379"
      },
      "id": "aXquDmeVL_UG",
      "execution_count": 36,
      "outputs": [
        {
          "output_type": "stream",
          "name": "stdout",
          "text": [
            "{\"query\": \"top 5 market drivers of sugar-free lollies\", \"follow_up_questions\": \"null\", \"answer\": \"null\", \"images\": \"null\", \"results\": [{\"title\": \"Prebiotic lolly: Funday on finding sugar-free sweet spot in Australia's ...\", \"url\": \"https://www.foodnavigator-asia.com/Article/2021/05/25/Prebiotic-lolly-Funday-on-finding-sugar-free-sweet-spot-in-Australia-s-healthy-confectionery-market\", \"content\": \"Australian start-up Funday Natural Sweets is seeking to shake-up the confectionery market with sugar-free and functional products, including a prebiotic lolly. The company currently has four SKUs, all of which contain no added sugar, no sugar-alcohol, and with 7g of prebiotic. The prebiotic is a form of fibre derived from the chicory root fiber ...\", \"score\": 0.97789, \"raw_content\": \"null\"}, {\"title\": \"Global Sugar-Free Confectionery Market Industry ... - Business Wire\", \"url\": \"https://www.businesswire.com/news/home/20210726005296/en/Global-Sugar-Free-Confectionery-Market-Industry-Analysis-2021-2026-Featuring-LILYS-Sweets-Mondelez-International-Ashers-Chocolate-Co.-Meiji-Co.-and-More---ResearchAndMarkets.com\", \"content\": \"The report is a comprehensive study and presentation of drivers, restraints, opportunities, demand factors, market size, forecasts, and trends in the global sugar-free confectionery market over ...\", \"score\": 0.9713, \"raw_content\": \"null\"}, {\"title\": \"Are sugar-free lollies that much better for you? Apparently not\", \"url\": \"https://www.bodyandsoul.com.au/nutrition/are-sugarfree-lollies-that-much-better-for-you-apparently-not/news-story/4706f2677bcaec3ea9fe7b801fcb10df\", \"content\": \"Just like regular lollies, sugar-free lollies provide no nutritional value, so they should still be considered a treat food. In my opinion, you'd be better off mindfully enjoying the sugar ...\", \"score\": 0.91733, \"raw_content\": \"null\"}, {\"title\": \"Funday natural lollies in 5000 stores after 250% growth\", \"url\": \"https://www.smartcompany.com.au/industries/retail/natural-lolly-brand-funday-5000-stores-growth/\", \"content\": \"Natural lolly brand Funday in 5000 stores after 250% year-on-year growth. Morganne Kopittke. November 30, 2023. Funday Natural Sweets founder Daniel Kitay. Source: Supplied. An Australian natural ...\", \"score\": 0.91167, \"raw_content\": \"null\"}, {\"title\": \"Interview with Daniel Kitay, Founder of FUNDAY\\u2122 Natural Sweets - LinkedIn\", \"url\": \"https://www.linkedin.com/pulse/interview-daniel-kitay-founder-funday-natural-sweets-\", \"content\": \"After frustration with the lack of healthy lollies on the market, Founder Daniel Kitay took to the kitchen. Deliciously natural lollies packed with gut-loving goodies, no added sugar or sugar ...\", \"score\": 0.9027, \"raw_content\": \"null\"}, {\"title\": \"Funday natural sweets helps satisfy guilt-free sweet tooth\", \"url\": \"https://www.foodmag.com.au/funday-natural-sweets-helps-satisfy-your-sweet-tooth-without-the-guilt/\", \"content\": \"Founded by the lolly-obsessed Daniel Kitay in 2021, Funday offers healthier versions of your favourite lollies bursting with flavour that are all-natural, gluten-free, and contain no added sugars or sugar alcohols! That's right, you can enjoy your sweets and eat it too! Frustrated by the lacklustre selection of sweets in supermarkets, Daniel Kitay set out to create something special.\", \"score\": 0.89741, \"raw_content\": \"null\"}, {\"title\": \"Worldwide Sugar-Free Food and Beverage Industry to 2024 - Key Drivers ...\", \"url\": \"https://finance.yahoo.com/news/worldwide-sugar-free-food-beverage-105800539.html\", \"content\": \"Dublin, Oct. 22, 2020 (GLOBE NEWSWIRE) -- The \\\"Global Sugar-Free Food and Beverage Market 2020-2024\\\" report has been added to ResearchAndMarkets.com's offering. The sugar-free food and beverage ...\", \"score\": 0.8672, \"raw_content\": \"null\"}, {\"title\": \"Zolli Pops Tropical Sugar Free Lollipops Candy - 16ct : Target\", \"url\": \"https://www.target.com/p/zolli-pops-tropical-sugar-free-lollipops-candy-16ct/-/A-81838714\", \"content\": \"The Zollipops Original Assorted pack contains 6 delicious natual flavors: Watermelon, Green Apple, Strawberry, Peach, Orange and Pineapple. GUILT-FREE TREAT: Zolli's lollipops are also known as the \\\"\\\"After You Eat Treat\\\"\\\", kids and adults can enjoy one after every meal, for clean teeth and healthier smile. Zollipops are not only sugar-free, but ...\", \"score\": 0.84724, \"raw_content\": \"null\"}, {\"title\": \"Candy - Market Share Analysis, Industry Trends & Statistics, Growth ...\", \"url\": \"https://www.researchandmarkets.com/reports/4828285/candy-market-share-analysis-industry-trends-and\", \"content\": \"The Candy Market size is estimated at USD 69.20 billion in 2024, and is expected to reach USD 83.46 billion by 2029, growing at a CAGR of 3.82% during the forecast period (2024-2029). Over the last year, the coronavirus has impacted every industry, including the confectionery and candy industry, although only for the short term.\", \"score\": 0.8371, \"raw_content\": \"null\"}, {\"title\": \"FUNDAY Natural Sweets announces launch at Coles supermarkets\", \"url\": \"https://www.foodmag.com.au/funday-natural-sweets-signs-a-multi-million-dollar-contract-with-coles/\", \"content\": \"Australia's leading natural confectionary brand, FUNDAY Natural Sweets proudly announced its launch at Coles supermarkets across the country being one of the first brands Coles has embraced, offering healthier treats for shoppers. Founded by the lolly-fanatic Daniel Kitay in 2021, FUNDAY offers healthier versions of your favourite lollies bursting with all-natural, gluten-free flavours and ...\", \"score\": 0.83157, \"raw_content\": \"null\"}], \"response_time\": 0.89}\n"
          ]
        }
      ]
    },
    {
      "cell_type": "code",
      "source": [
        "class Lollies(BaseModel):\n",
        "    title: str = Field(description=\"Title of reason\")\n",
        "    description: list = Field(description=\"Detailed description of reason\")\n",
        "\n",
        "# Setting up a parser + inject instructions into the prompt template.\n",
        "parser = JsonOutputParser(pydantic_object=Lollies)\n",
        "\n",
        "prompt = PromptTemplate(\n",
        "    template=\"Summarize and generate 5 reasons why the following lollies are market drivers based on the given context.\\n{format_instructions}\\n{context}\\n\",\n",
        "    input_variables=[\"context\"],\n",
        "    partial_variables={\"format_instructions\": parser.get_format_instructions()},\n",
        ")\n",
        "\n",
        "chain = prompt | model | parser\n",
        "\n",
        "chain.invoke({\"context\": context})"
      ],
      "metadata": {
        "colab": {
          "base_uri": "https://localhost:8080/"
        },
        "id": "qVEN8x92IBWy",
        "outputId": "4f135932-da5d-48ed-abeb-286011cf0ab0"
      },
      "id": "qVEN8x92IBWy",
      "execution_count": 47,
      "outputs": [
        {
          "output_type": "execute_result",
          "data": {
            "text/plain": [
              "{'title': 'Top 5 Market Drivers of Sugar-Free Lollies',\n",
              " 'reasons': [{'title': 'Functional and Sugar-Free Products',\n",
              "   'description': 'Australian start-up Funday Natural Sweets offers sugar-free and functional lollies, including a prebiotic lolly, appealing to health-conscious consumers.'},\n",
              "  {'title': 'Global Market Trends',\n",
              "   'description': 'The global sugar-free confectionery market is driven by various factors such as demand, opportunities, and trends, indicating a growing market for sugar-free lollies.'},\n",
              "  {'title': 'Health Considerations',\n",
              "   'description': 'Despite providing no nutritional value, sugar-free lollies are perceived as a better alternative to regular lollies, attracting consumers looking for guilt-free treats.'},\n",
              "  {'title': 'Brand Growth and Expansion',\n",
              "   'description': 'Funday Natural Sweets has experienced significant growth, expanding its presence to 5000 stores and securing partnerships with major retailers like Coles supermarkets.'},\n",
              "  {'title': 'Innovative Product Offerings',\n",
              "   'description': 'Funday offers innovative and healthier versions of traditional lollies, catering to consumers seeking all-natural, gluten-free options with no added sugars or sugar alcohols.'}]}"
            ]
          },
          "metadata": {},
          "execution_count": 47
        }
      ]
    },
    {
      "cell_type": "code",
      "source": [
        "from openai import OpenAI\n",
        "client = OpenAI(api_key='sk-proj-A2Cjs7DGGueFgkZT1BBJT3BlbkFJM33uMBcQbvHOxKctjdKg')\n",
        "\n",
        "prompt = f\"You have been provided some context on the top 5 market drivers of sugar free lollies. Summarize and generate 5 reasons why they are market drivers in a JSON format with fields like title and description: {context}\"\n",
        "\n",
        "response = client.chat.completions.create(\n",
        "  model=\"gpt-3.5-turbo\",\n",
        "  temperature = 2,\n",
        "  messages = [{\"role\": \"user\", \"content\": prompt}])\n",
        "\n",
        "print(response.choices[0].message.content)"
      ],
      "metadata": {
        "colab": {
          "base_uri": "https://localhost:8080/"
        },
        "id": "oofKi8ZYQqaA",
        "outputId": "86bc53e5-4856-4197-e43d-29f5c4784d6f"
      },
      "id": "oofKi8ZYQqaA",
      "execution_count": 32,
      "outputs": [
        {
          "output_type": "stream",
          "name": "stdout",
          "text": [
            "```json\n",
            "{\n",
            "    \"market_drivers\": [\n",
            "        {\n",
            "            \"title\": \"Growth in demand for functional and healthier alternatives\",\n",
            "            \"description\": \"Consumers are seeking sugar-free options featuring functional ingredients like prebiotics that offer health benefits.\"\n",
            "        },\n",
            "        {\n",
            "            \"title\": \"Increasing awareness of health and wellness\",\n",
            "            \"description\": \"Rising awareness about the detrimental effects of excess sugar consumption drive the preference for sugar-free options.\"\n",
            "        },\n",
            "        {\n",
            "            \"title\": \"Expanded availability and accessibility\",\n",
            "            \"description\": \"Zero sugar lollies are becoming more widely stocked in stores, catering to the increasing demand from health-conscious consumers globally.\"\n",
            "        },\n",
            "        {\n",
            "            \"title\": \"Innovative product development and flavorful offerings\",\n",
            "            \"description\": \"Companies focusing on creating innovative and delicious sugar-free lolly options attract consumers looking for tasteful treats without the guilt.\"\n",
            "        },\n",
            "        {\n",
            "            \"title\": \"Partnering with established retail chains\",\n",
            "            \"description\": \"Strategic collaborations with renowned supermarkets like Coles provide sugar-free lollies a larger platform for distribution and visibility.\"\n",
            " Description)\"\n",
            "        }\n",
            "    ]\n",
            "}\n",
            "```\n"
          ]
        }
      ]
    }
  ],
  "metadata": {
    "colab": {
      "provenance": []
    },
    "language_info": {
      "name": "python"
    },
    "kernelspec": {
      "name": "python3",
      "display_name": "Python 3"
    }
  },
  "nbformat": 4,
  "nbformat_minor": 5
}