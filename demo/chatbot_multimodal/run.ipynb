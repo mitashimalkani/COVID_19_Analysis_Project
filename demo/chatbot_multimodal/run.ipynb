{
  "cells": [
    {
      "cell_type": "markdown",
      "id": "302934307671667531413257853548643485645",
      "metadata": {
        "id": "302934307671667531413257853548643485645"
      },
      "source": [
        "\\ Technical Interview Assignment"
      ]
    },
    {
      "cell_type": "code",
      "execution_count": 13,
      "id": "272996653310673477252411125948039410165",
      "metadata": {
        "colab": {
          "base_uri": "https://localhost:8080/"
        },
        "id": "272996653310673477252411125948039410165",
        "outputId": "b4988653-84f5-495a-e018-54947140e100"
      },
      "outputs": [
        {
          "output_type": "stream",
          "name": "stdout",
          "text": [
            "Requirement already satisfied: openai in /usr/local/lib/python3.10/dist-packages (1.25.1)\n",
            "Requirement already satisfied: anyio<5,>=3.5.0 in /usr/local/lib/python3.10/dist-packages (from openai) (3.7.1)\n",
            "Requirement already satisfied: distro<2,>=1.7.0 in /usr/lib/python3/dist-packages (from openai) (1.7.0)\n",
            "Requirement already satisfied: httpx<1,>=0.23.0 in /usr/local/lib/python3.10/dist-packages (from openai) (0.27.0)\n",
            "Requirement already satisfied: pydantic<3,>=1.9.0 in /usr/local/lib/python3.10/dist-packages (from openai) (2.7.1)\n",
            "Requirement already satisfied: sniffio in /usr/local/lib/python3.10/dist-packages (from openai) (1.3.1)\n",
            "Requirement already satisfied: tqdm>4 in /usr/local/lib/python3.10/dist-packages (from openai) (4.66.2)\n",
            "Requirement already satisfied: typing-extensions<5,>=4.7 in /usr/local/lib/python3.10/dist-packages (from openai) (4.11.0)\n",
            "Requirement already satisfied: idna>=2.8 in /usr/local/lib/python3.10/dist-packages (from anyio<5,>=3.5.0->openai) (3.7)\n",
            "Requirement already satisfied: exceptiongroup in /usr/local/lib/python3.10/dist-packages (from anyio<5,>=3.5.0->openai) (1.2.1)\n",
            "Requirement already satisfied: certifi in /usr/local/lib/python3.10/dist-packages (from httpx<1,>=0.23.0->openai) (2024.2.2)\n",
            "Requirement already satisfied: httpcore==1.* in /usr/local/lib/python3.10/dist-packages (from httpx<1,>=0.23.0->openai) (1.0.5)\n",
            "Requirement already satisfied: h11<0.15,>=0.13 in /usr/local/lib/python3.10/dist-packages (from httpcore==1.*->httpx<1,>=0.23.0->openai) (0.14.0)\n",
            "Requirement already satisfied: annotated-types>=0.4.0 in /usr/local/lib/python3.10/dist-packages (from pydantic<3,>=1.9.0->openai) (0.6.0)\n",
            "Requirement already satisfied: pydantic-core==2.18.2 in /usr/local/lib/python3.10/dist-packages (from pydantic<3,>=1.9.0->openai) (2.18.2)\n"
          ]
        }
      ],
      "source": [
        "!pip install openai"
      ]
    },
    {
      "cell_type": "code",
      "execution_count": 5,
      "id": "44380577570523278879349135829904343037",
      "metadata": {
        "id": "44380577570523278879349135829904343037"
      },
      "outputs": [],
      "source": [
        "import openai\n",
        "import json"
      ]
    },
    {
      "cell_type": "code",
      "source": [
        "search_results = {\n",
        "    \"query\": \"top 5 market drivers of sugar-free lollies\",\n",
        "    \"follow_up_questions\": \"null\",\n",
        "    \"answer\": \"null\",\n",
        "    \"images\": \"null\",\n",
        "    \"results\": [\n",
        "        {\n",
        "            \"title\": \"Prebiotic lolly: Funday on finding sugar-free sweet spot in Australia's ...\",\n",
        "            \"url\": \"https://www.foodnavigator-asia.com/Article/2021/05/25/Prebiotic-lolly-Funday-on-finding-sugar-free-sweet-spot-in-Australia-s-healthy-confectionery-market\",\n",
        "            \"content\": \"Australian start-up Funday Natural Sweets is seeking to shake-up the confectionery market with sugar-free and functional products, including a prebiotic lolly. The company currently has four SKUs, all of which contain no added sugar, no sugar-alcohol, and with 7g of prebiotic. The prebiotic is a form of fibre derived from the chicory root fiber ...\",\n",
        "            \"score\": 0.97789,\n",
        "            \"raw_content\": \"null\"\n",
        "        },\n",
        "        {\n",
        "            \"title\": \"Global Sugar-Free Confectionery Market Industry ... - Business Wire\",\n",
        "            \"url\": \"https://www.businesswire.com/news/home/20210726005296/en/Global-Sugar-Free-Confectionery-Market-Industry-Analysis-2021-2026-Featuring-LILYS-Sweets-Mondelez-International-Ashers-Chocolate-Co.-Meiji-Co.-and-More---ResearchAndMarkets.com\",\n",
        "            \"content\": \"The report is a comprehensive study and presentation of drivers, restraints, opportunities, demand factors, market size, forecasts, and trends in the global sugar-free confectionery market over ...\",\n",
        "            \"score\": 0.9713,\n",
        "            \"raw_content\": \"null\"\n",
        "        },\n",
        "        {\n",
        "            \"title\": \"Are sugar-free lollies that much better for you? Apparently not\",\n",
        "            \"url\": \"https://www.bodyandsoul.com.au/nutrition/are-sugarfree-lollies-that-much-better-for-you-apparently-not/news-story/4706f2677bcaec3ea9fe7b801fcb10df\",\n",
        "            \"content\": \"Just like regular lollies, sugar-free lollies provide no nutritional value, so they should still be considered a treat food. In my opinion, you'd be better off mindfully enjoying the sugar ...\",\n",
        "            \"score\": 0.91733,\n",
        "            \"raw_content\": \"null\"\n",
        "        },\n",
        "        {\n",
        "            \"title\": \"Funday natural lollies in 5000 stores after 250% growth\",\n",
        "            \"url\": \"https://www.smartcompany.com.au/industries/retail/natural-lolly-brand-funday-5000-stores-growth/\",\n",
        "            \"content\": \"Natural lolly brand Funday in 5000 stores after 250% year-on-year growth. Morganne Kopittke. November 30, 2023. Funday Natural Sweets founder Daniel Kitay. Source: Supplied. An Australian natural ...\",\n",
        "            \"score\": 0.91167,\n",
        "            \"raw_content\": \"null\"\n",
        "        },\n",
        "        {\n",
        "            \"title\": \"Interview with Daniel Kitay, Founder of FUNDAY™ Natural Sweets - LinkedIn\",\n",
        "            \"url\": \"https://www.linkedin.com/pulse/interview-daniel-kitay-founder-funday-natural-sweets-\",\n",
        "            \"content\": \"After frustration with the lack of healthy lollies on the market, Founder Daniel Kitay took to the kitchen. Deliciously natural lollies packed with gut-loving goodies, no added sugar or sugar ...\",\n",
        "            \"score\": 0.9027,\n",
        "            \"raw_content\": \"null\"\n",
        "        },\n",
        "        {\n",
        "            \"title\": \"Funday natural sweets helps satisfy guilt-free sweet tooth\",\n",
        "            \"url\": \"https://www.foodmag.com.au/funday-natural-sweets-helps-satisfy-your-sweet-tooth-without-the-guilt/\",\n",
        "            \"content\": \"Founded by the lolly-obsessed Daniel Kitay in 2021, Funday offers healthier versions of your favourite lollies bursting with flavour that are all-natural, gluten-free, and contain no added sugars or sugar alcohols! That's right, you can enjoy your sweets and eat it too! Frustrated by the lacklustre selection of sweets in supermarkets, Daniel Kitay set out to create something special.\",\n",
        "            \"score\": 0.89741,\n",
        "            \"raw_content\": \"null\"\n",
        "        },\n",
        "        {\n",
        "            \"title\": \"Worldwide Sugar-Free Food and Beverage Industry to 2024 - Key Drivers ...\",\n",
        "            \"url\": \"https://finance.yahoo.com/news/worldwide-sugar-free-food-beverage-105800539.html\",\n",
        "            \"content\": \"Dublin, Oct. 22, 2020 (GLOBE NEWSWIRE) -- The \\\"Global Sugar-Free Food and Beverage Market 2020-2024\\\" report has been added to ResearchAndMarkets.com's offering. The sugar-free food and beverage ...\",\n",
        "            \"score\": 0.8672,\n",
        "            \"raw_content\": \"null\"\n",
        "        },\n",
        "        {\n",
        "            \"title\": \"Zolli Pops Tropical Sugar Free Lollipops Candy - 16ct : Target\",\n",
        "            \"url\": \"https://www.target.com/p/zolli-pops-tropical-sugar-free-lollipops-candy-16ct/-/A-81838714\",\n",
        "            \"content\": \"The Zollipops Original Assorted pack contains 6 delicious natual flavors: Watermelon, Green Apple, Strawberry, Peach, Orange and Pineapple. GUILT-FREE TREAT: Zolli's lollipops are also known as the \\\"\\\"After You Eat Treat\\\"\\\", kids and adults can enjoy one after every meal, for clean teeth and healthier smile. Zollipops are not only sugar-free, but ...\",\n",
        "            \"score\": 0.84724,\n",
        "            \"raw_content\": \"null\"\n",
        "        },\n",
        "        {\n",
        "            \"title\": \"Candy - Market Share Analysis, Industry Trends & Statistics, Growth ...\",\n",
        "            \"url\": \"https://www.researchandmarkets.com/reports/4828285/candy-market-share-analysis-industry-trends-and\",\n",
        "            \"content\": \"The Candy Market size is estimated at USD 69.20 billion in 2024, and is expected to reach USD 83.46 billion by 2029, growing at a CAGR of 3.82% during the forecast period (2024-2029). Over the last year, the coronavirus has impacted every industry, including the confectionery and candy industry, although only for the short term.\",\n",
        "            \"score\": 0.8371,\n",
        "            \"raw_content\": \"null\"\n",
        "        },\n",
        "        {\n",
        "            \"title\": \"FUNDAY Natural Sweets announces launch at Coles supermarkets\",\n",
        "            \"url\": \"https://www.foodmag.com.au/funday-natural-sweets-signs-a-multi-million-dollar-contract-with-coles/\",\n",
        "            \"content\": \"Australia's leading natural confectionary brand, FUNDAY Natural Sweets proudly announced its launch at Coles supermarkets across the country being one of the first brands Coles has embraced, offering healthier treats for shoppers. Founded by the lolly-fanatic Daniel Kitay in 2021, FUNDAY offers healthier versions of your favourite lollies bursting with all-natural, gluten-free flavours and ...\",\n",
        "            \"score\": 0.83157,\n",
        "            \"raw_content\": \"null\"\n",
        "        }\n",
        "    ],\n",
        "    \"response_time\": 0.89\n",
        "}\n"
      ],
      "metadata": {
        "id": "gNcw5NtENwXx"
      },
      "id": "gNcw5NtENwXx",
      "execution_count": 7,
      "outputs": []
    },
    {
      "cell_type": "code",
      "source": [
        "context = json.dumps(search_results)"
      ],
      "metadata": {
        "id": "xOcOYedTNzsM"
      },
      "id": "xOcOYedTNzsM",
      "execution_count": 8,
      "outputs": []
    },
    {
      "cell_type": "code",
      "source": [
        "openai.api_key = 'sk-proj-ERt6WDDFBjT5p3GagsCBT3BlbkFJYv4CbTF65X8l2wWTSekV'"
      ],
      "metadata": {
        "id": "grzupQyGOaZE"
      },
      "id": "grzupQyGOaZE",
      "execution_count": 9,
      "outputs": []
    },
    {
      "cell_type": "code",
      "source": [
        "from openai import OpenAI\n",
        "client = OpenAI(api_key='sk-proj-ERt6WDDFBjT5p3GagsCBT3BlbkFJYv4CbTF65X8l2wWTSekV')\n",
        "\n",
        "prompt = f\"You have been provided some context on the top 5 market drivers of sugar free lollies. Summarize and generate 5 reasons why they are market drivers in a JSON format. Make sure to have fields like title and description for the same.: {context}\"\n",
        "\n",
        "response = client.chat.completions.create(\n",
        "  model=\"gpt-3.5-turbo\",\n",
        "  messages = [{\"role\": \"user\", \"content\": prompt}])\n",
        "\n",
        "print(response.choices[0].message.content)"
      ],
      "metadata": {
        "colab": {
          "base_uri": "https://localhost:8080/"
        },
        "id": "oofKi8ZYQqaA",
        "outputId": "6056b6de-7666-4c75-83b7-5af1bcd164f4"
      },
      "id": "oofKi8ZYQqaA",
      "execution_count": 22,
      "outputs": [
        {
          "output_type": "stream",
          "name": "stdout",
          "text": [
            "{\n",
            "    \"top_market_drivers\": [\n",
            "        {\n",
            "            \"title\": \"Prebiotic Lolly Innovation\",\n",
            "            \"description\": \"Companies are introducing innovative products like prebiotic lollies that cater to the growing demand for sugar-free and functional confectionery.\"\n",
            "        },\n",
            "        {\n",
            "            \"title\": \"Global Market Trends\",\n",
            "            \"description\": \"The global sugar-free confectionery market is witnessing significant growth driven by factors like changing consumer preferences, health concerns, and increasing awareness of sugar's impact on health.\"\n",
            "        },\n",
            "        {\n",
            "            \"title\": \"Increased Distribution and Retail Presence\",\n",
            "            \"description\": \"Brands like Funday Natural Sweets are expanding their reach by entering more stores and supermarkets, making sugar-free lollies more accessible to consumers.\"\n",
            "        },\n",
            "        {\n",
            "            \"title\": \"Health Conscious Consumer Behavior\",\n",
            "            \"description\": \"Consumers are becoming more health-conscious and are seeking alternatives to traditional sugary treats, leading to a rise in the demand for sugar-free lollies.\"\n",
            "        },\n",
            "        {\n",
            "            \"title\": \"Functional Benefits of Sugar-Free Lollies\",\n",
            "            \"description\": \"The presence of functional ingredients like prebiotics in sugar-free lollies is attracting consumers looking for confectionery options that offer additional health benefits.\"\n",
            "        }\n",
            "    ]\n",
            "}\n"
          ]
        }
      ]
    }
  ],
  "metadata": {
    "colab": {
      "provenance": []
    },
    "language_info": {
      "name": "python"
    },
    "kernelspec": {
      "name": "python3",
      "display_name": "Python 3"
    }
  },
  "nbformat": 4,
  "nbformat_minor": 5
}